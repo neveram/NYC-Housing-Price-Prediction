{
 "cells": [
  {
   "cell_type": "code",
   "execution_count": 1,
   "id": "0117d5b6",
   "metadata": {},
   "outputs": [
    {
     "ename": "ModuleNotFoundError",
     "evalue": "No module named 'lightgbm'",
     "output_type": "error",
     "traceback": [
      "\u001b[0;31m---------------------------------------------------------------------------\u001b[0m",
      "\u001b[0;31mModuleNotFoundError\u001b[0m                       Traceback (most recent call last)",
      "\u001b[0;32m/var/folders/fw/xv6457ms42n989wdbz7hz7xc0000gn/T/ipykernel_83604/182590712.py\u001b[0m in \u001b[0;36m<module>\u001b[0;34m\u001b[0m\n\u001b[1;32m      7\u001b[0m \u001b[0;32mfrom\u001b[0m \u001b[0mscipy\u001b[0m \u001b[0;32mimport\u001b[0m \u001b[0mstats\u001b[0m \u001b[0;31m# for plot normal distribution\u001b[0m\u001b[0;34m\u001b[0m\u001b[0;34m\u001b[0m\u001b[0m\n\u001b[1;32m      8\u001b[0m \u001b[0;32mfrom\u001b[0m \u001b[0mxgboost\u001b[0m \u001b[0;32mimport\u001b[0m \u001b[0mXGBRegressor\u001b[0m\u001b[0;34m\u001b[0m\u001b[0;34m\u001b[0m\u001b[0m\n\u001b[0;32m----> 9\u001b[0;31m \u001b[0;32mimport\u001b[0m \u001b[0mlightgbm\u001b[0m\u001b[0;34m\u001b[0m\u001b[0;34m\u001b[0m\u001b[0m\n\u001b[0m\u001b[1;32m     10\u001b[0m \u001b[0;32mfrom\u001b[0m \u001b[0msklearn\u001b[0m\u001b[0;34m.\u001b[0m\u001b[0mneural_network\u001b[0m \u001b[0;32mimport\u001b[0m \u001b[0mMLPRegressor\u001b[0m\u001b[0;34m\u001b[0m\u001b[0;34m\u001b[0m\u001b[0m\n\u001b[1;32m     11\u001b[0m \u001b[0;32mimport\u001b[0m \u001b[0mxgboost\u001b[0m \u001b[0;32mas\u001b[0m \u001b[0mxgb\u001b[0m\u001b[0;34m\u001b[0m\u001b[0;34m\u001b[0m\u001b[0m\n",
      "\u001b[0;31mModuleNotFoundError\u001b[0m: No module named 'lightgbm'"
     ]
    }
   ],
   "source": [
    "# Import packages\n",
    "import pandas as pd\n",
    "import numpy as np\n",
    "import matplotlib.pyplot as plt\n",
    "import seaborn as sns\n",
    "from scipy.stats import zscore #for outlier\n",
    "from scipy import stats # for plot normal distribution\n",
    "from xgboost import XGBRegressor\n",
    "import lightgbm\n",
    "from sklearn.neural_network import MLPRegressor\n",
    "import xgboost as xgb\n",
    "from sklearn.tree import DecisionTreeRegressor\n",
    "from sklearn.ensemble import RandomForestRegressor\n",
    "from sklearn.neighbors import KNeighborsRegressor\n",
    "from sklearn.metrics import mean_squared_error,r2_score, mean_absolute_error\n",
    "import time\n",
    "from sklearn import svm"
   ]
  },
  {
   "cell_type": "code",
   "execution_count": null,
   "id": "4b01e212",
   "metadata": {},
   "outputs": [],
   "source": [
    "## Load data\n",
    "\n",
    "bronx2020 = pd.read_excel(r\"NYC_Housing_Dataset_2020/2020_bronx.xlsx\",skiprows=6,thousands=',')\n",
    "brooklyn2020 = pd.read_excel(r\"NYC_Housing_Dataset_2020/2020_brooklyn.xlsx\",skiprows=6,thousands=',')\n",
    "manhattan2020 = pd.read_excel(r\"NYC_Housing_Dataset_2020/2020_manhattan.xlsx\",skiprows=6,thousands=',')\n",
    "queens2020 = pd.read_excel(r\"NYC_Housing_Dataset_2020/2020_queens.xlsx\",skiprows=6,thousands=',')\n",
    "statenisland2020 = pd.read_excel(r\"NYC_Housing_Dataset_2020/2020_staten_island.xlsx\",skiprows=6,thousands=',')\n",
    "\n",
    "# Load data for df price prediction 2021\n",
    "bronx2021 = pd.read_excel(\"NYC_Housing_Dataset_2021/2021_bronx.xlsx\",skiprows=6)\n",
    "brooklyn2021 = pd.read_excel(\"NYC_Housing_Dataset_2021/2021_brooklyn.xlsx\",skiprows=6)\n",
    "manhattan2021 = pd.read_excel(\"NYC_Housing_Dataset_2021/2021_manhattan.xlsx\",skiprows=6)\n",
    "queens2021 = pd.read_excel(\"NYC_Housing_Dataset_2021/2021_queens.xlsx\",skiprows=6)\n",
    "statensisland2021 = pd.read_excel(\"NYC_Housing_Dataset_2021/2021_staten_island.xlsx\",skiprows=6)"
   ]
  },
  {
   "cell_type": "code",
   "execution_count": null,
   "id": "04e7f6a1",
   "metadata": {
    "scrolled": true
   },
   "outputs": [],
   "source": [
    "df = pd.concat([manhattan2020, manhattan2021,bronx2020, bronx2021,brooklyn2020,brooklyn2021, \n",
    "                 queens2020,queens2021,statenisland2020,statensisland2021], ignore_index=True)\n",
    "df.columns = [c.replace('\\n', '') for c in df.columns]\n",
    "df.head(10)"
   ]
  },
  {
   "cell_type": "markdown",
   "id": "c4054358",
   "metadata": {},
   "source": [
    "### Data Cleaning and Data Preprocessing "
   ]
  },
  {
   "cell_type": "code",
   "execution_count": null,
   "id": "87169775",
   "metadata": {},
   "outputs": [],
   "source": [
    "## Duplicates"
   ]
  },
  {
   "cell_type": "code",
   "execution_count": null,
   "id": "addab310",
   "metadata": {},
   "outputs": [],
   "source": [
    "#Delete the duplicates and check that it worked\n",
    "df = df.drop_duplicates(df.columns, keep='last')\n",
    "sum(df.duplicated(df.columns))"
   ]
  },
  {
   "cell_type": "code",
   "execution_count": null,
   "id": "97e87de3",
   "metadata": {},
   "outputs": [],
   "source": [
    "## Uniqueness"
   ]
  },
  {
   "cell_type": "code",
   "execution_count": null,
   "id": "a37fa65e",
   "metadata": {},
   "outputs": [],
   "source": [
    "#Check for the number of unique values for every column \n",
    "for i in df.columns:\n",
    "  print(str(i) + \":\" + str(df[i].nunique()))"
   ]
  },
  {
   "cell_type": "code",
   "execution_count": null,
   "id": "55747700",
   "metadata": {},
   "outputs": [],
   "source": [
    "## Data type transformation "
   ]
  },
  {
   "cell_type": "markdown",
   "id": "9d6ad9b6",
   "metadata": {},
   "source": [
    "Since there is no information in EASE-MENT columns, we will drop it initially. We will also drop the SALE DATE column as we are not considering the effect of time on the sale price. "
   ]
  },
  {
   "cell_type": "code",
   "execution_count": null,
   "id": "dc54cace",
   "metadata": {},
   "outputs": [],
   "source": [
    "#Converting columns to respective datatype\n",
    "categoricalData = ['BOROUGH','TAX CLASS AT PRESENT','BUILDING CLASS CATEGORY',\n",
    "                    'TAX CLASS AT TIME OF SALE',\n",
    "                    'BUILDING CLASS AT PRESENT',\n",
    "                    'BUILDING CLASSAT TIME OF SALE']\n",
    "for each in categoricalData:\n",
    "    df[each] = df[each].astype('category')\n",
    "df['LAND SQUARE FEET'] = pd.to_numeric(df['LAND SQUARE FEET'], errors='coerce')\n",
    "df['GROSS SQUARE FEET']= pd.to_numeric(df['GROSS SQUARE FEET'], errors='coerce')\n",
    "df['SALE PRICE'] = df['SALE PRICE'].replace('[CA\\$,]', '', regex=True).astype(float) * 0.77 # convert to US dollars \n",
    "df = df.drop(columns=[\"SALE DATE\", \"EASE-MENT\"])\n",
    "df.info()"
   ]
  },
  {
   "cell_type": "code",
   "execution_count": null,
   "id": "8ff8840c",
   "metadata": {},
   "outputs": [],
   "source": [
    "## Missing values"
   ]
  },
  {
   "cell_type": "code",
   "execution_count": null,
   "id": "43c467e0",
   "metadata": {},
   "outputs": [],
   "source": [
    "# Drop LAND SQUARE FEET = 0, GROSS SQUARE FEET = 0, YEAR BUILT = 0   \n",
    "df = df[df['LAND SQUARE FEET'] > 0]\n",
    "df = df[df['GROSS SQUARE FEET'] > 0]\n",
    "df = df[df['YEAR BUILT'] > 0]  \n",
    "#Drop the missing values\n",
    "df.dropna(how='all',axis=1,inplace=True)\n",
    "df.info()"
   ]
  },
  {
   "cell_type": "code",
   "execution_count": null,
   "id": "dbd0c373",
   "metadata": {
    "scrolled": true
   },
   "outputs": [],
   "source": [
    "##Check whether dropping nan worked \n",
    "df.isnull().sum()"
   ]
  },
  {
   "cell_type": "code",
   "execution_count": null,
   "id": "a9d1d9d8",
   "metadata": {},
   "outputs": [],
   "source": [
    "## Outliers"
   ]
  },
  {
   "cell_type": "markdown",
   "id": "e5d5ab72",
   "metadata": {},
   "source": [
    "In this case, we will use Z score to detect the outliers in the columns of LAND SQUARE FEET, GROSS SQUARE FEET and SALE PRICE. \n",
    "Z score is a significant measure that tells how much a number is above or below the mean of the dataset in terms of standard deviation. We set the threshold=3"
   ]
  },
  {
   "cell_type": "code",
   "execution_count": null,
   "id": "3a7683db",
   "metadata": {},
   "outputs": [],
   "source": [
    "df['landSquare_zscore']=zscore(df['LAND SQUARE FEET'])\n",
    "df.loc[df['landSquare_zscore'].abs()<=3]\n",
    "print(\"The count of outliers in LAND SQUARE FEET is: {}\".format(len((np.where(zscore(df['LAND SQUARE FEET']) > 3)[0]))))\n",
    "\n",
    "df['grossSquare_zscore']=zscore(df['GROSS SQUARE FEET'])\n",
    "df.loc[df['grossSquare_zscore'].abs()<=3]\n",
    "print(\"The count of outliers in GROSS SQUARE FEET is: {}\".format(len((np.where(zscore(df['GROSS SQUARE FEET']) > 3)[0]))))\n",
    "\n",
    "df['salePrice_zscore']=zscore(df['SALE PRICE'])\n",
    "df.loc[df['salePrice_zscore'].abs()<=3]\n",
    "print(\"The count of outliers in SALE PRICE is: {}\".format(len((np.where(zscore(df['SALE PRICE']) > 3)[0]))))"
   ]
  },
  {
   "cell_type": "markdown",
   "id": "22c594e5",
   "metadata": {},
   "source": [
    "### Exploratory Data Analysis"
   ]
  },
  {
   "cell_type": "markdown",
   "id": "31b3076f",
   "metadata": {},
   "source": [
    "### Feature Engineering"
   ]
  },
  {
   "cell_type": "code",
   "execution_count": null,
   "id": "18401776",
   "metadata": {},
   "outputs": [],
   "source": [
    "df['AGE'] = 2021 - df['YEAR BUILT']\n",
    "\n",
    "# is the building pre or post war?\n",
    "df['AGE_CATEGORY'] = np.where(df['AGE']>=76,\"Pre-War\",'Post-War')\n",
    "\n",
    "df['AGE_CATEGORY'] = df['AGE_CATEGORY'].astype('category')\n",
    "\n",
    "df.head()"
   ]
  },
  {
   "cell_type": "markdown",
   "id": "08c2260d",
   "metadata": {},
   "source": [
    "## Converting Borough column to name of each property where it is located."
   ]
  },
  {
   "cell_type": "code",
   "execution_count": null,
   "id": "9a49ad02",
   "metadata": {},
   "outputs": [],
   "source": [
    "df['BOROUGH'].unique()"
   ]
  },
  {
   "cell_type": "code",
   "execution_count": null,
   "id": "65ed5269",
   "metadata": {},
   "outputs": [],
   "source": [
    "df['BOROUGH'] = df['BOROUGH'].map({1.0:\"Manhattan\",\n",
    "                                 2.0:\"Bronx\",\n",
    "                                 3.0:\"Brooklyn\",\n",
    "                                 4.0:\"Queens\",\n",
    "                                 5.0:\"Staten Island\"})\n",
    "df['BOROUGH'].unique()"
   ]
  },
  {
   "cell_type": "markdown",
   "id": "32ef3d3d",
   "metadata": {},
   "source": [
    "### Target Variable[Sale Price]"
   ]
  },
  {
   "cell_type": "markdown",
   "id": "f10878c0",
   "metadata": {},
   "source": [
    "##### Visualization of Raw Data"
   ]
  },
  {
   "cell_type": "markdown",
   "id": "02ab92d9",
   "metadata": {},
   "source": [
    "Calculating mean, median and mode for each column in dataframe"
   ]
  },
  {
   "cell_type": "code",
   "execution_count": null,
   "id": "aea6c0f6",
   "metadata": {
    "scrolled": true
   },
   "outputs": [],
   "source": [
    "df.describe()"
   ]
  },
  {
   "cell_type": "code",
   "execution_count": null,
   "id": "0a05f838",
   "metadata": {},
   "outputs": [],
   "source": [
    "df.columns"
   ]
  },
  {
   "cell_type": "code",
   "execution_count": null,
   "id": "0dfbf5e2",
   "metadata": {},
   "outputs": [],
   "source": [
    "N = 'Nominal'\n",
    "O = 'Ordinal'\n",
    "I = 'Interval'\n",
    "R = \"Ratio\""
   ]
  },
  {
   "cell_type": "code",
   "execution_count": null,
   "id": "9f103daa",
   "metadata": {},
   "outputs": [],
   "source": [
    "NOIR_Classification={\"BOROUGH\":N,\n",
    "                    \"NEIGHBORHOOD\":N,\n",
    "                    \"BUILDING CLASS CATEGORY\":O,\n",
    "                    \"TAX CLASS AT PRESENT\":O,\n",
    "                    \"BLOCK\":N,\n",
    "                    \"LOT\":N,\n",
    "                    \"BUILDING CLASS AT PRESENT\":N,\n",
    "                    \"ADDRESS\":N,\n",
    "                    \"APARTMENT NUMBER\":N,\n",
    "                    \"ZIP CODE\":N,\n",
    "                    \"RESIDENTIALUNITS\":N,\n",
    "                    \"COMMERCIALUNITS\":N,\n",
    "                    \"TOTAL UNITS\":N,\n",
    "                    \"LAND SQUARE FEET\":N,\n",
    "                    \"GROSS SQUARE FEET\":N,\n",
    "                    \"YEAR BUILT\":O,\n",
    "                    \"TAX CLASS AT TIME OF SALE\":O,\n",
    "                    \"BUILDING CLASSAT TIME OF SALE\":N,\n",
    "                    \"SALE PRICE\":N,\n",
    "                    \"SALE DATE\":O,\n",
    "                     'AGE': R,\n",
    "                     'AGE_CATEGORY': O\n",
    "\n",
    "                   }"
   ]
  },
  {
   "cell_type": "code",
   "execution_count": null,
   "id": "8f8b330c",
   "metadata": {},
   "outputs": [],
   "source": [
    "for key,value in NOIR_Classification.items():\n",
    "    print(f\"Column: {key}\\t\\t\\t Classification Type :{value}\")"
   ]
  },
  {
   "cell_type": "code",
   "execution_count": null,
   "id": "cc489f91",
   "metadata": {
    "scrolled": true
   },
   "outputs": [],
   "source": [
    "df['SALE PRICE'].describe()"
   ]
  },
  {
   "cell_type": "code",
   "execution_count": null,
   "id": "2b78ff0e",
   "metadata": {},
   "outputs": [],
   "source": [
    "plt.figure(figsize=(15,6))\n",
    "plt.subplot(1,2,1)\n",
    "plt.boxplot(df['SALE PRICE'])\n",
    "plt.title('Sale Price - Box Plot')\n",
    "plt.subplot(1,2,2)\n",
    "sns.distplot(df['SALE PRICE'])\n",
    "plt.title('Sale Price - Density Plot')\n",
    "# Skewness\n",
    "print(\"Skewness: %f\" % df['SALE PRICE'].skew())\n",
    "plt.show()"
   ]
  },
  {
   "cell_type": "markdown",
   "id": "c3ecdd80",
   "metadata": {},
   "source": [
    "##### Range set-up & Log-Transformation"
   ]
  },
  {
   "cell_type": "code",
   "execution_count": null,
   "id": "c30ec3fb",
   "metadata": {},
   "outputs": [],
   "source": [
    "# Sale price percentage = $0\n",
    "len(df.loc[df['SALE PRICE'] == 0 ])/len(df)"
   ]
  },
  {
   "cell_type": "code",
   "execution_count": null,
   "id": "ff207202",
   "metadata": {},
   "outputs": [],
   "source": [
    "# Sale price percentage < $50000\n",
    "len(df.loc[df['SALE PRICE'] < 50000])/len(df)"
   ]
  },
  {
   "cell_type": "code",
   "execution_count": null,
   "id": "f2e4e686",
   "metadata": {},
   "outputs": [],
   "source": [
    "# Sale price percentage > 12000000\n",
    "len(df.loc[df['SALE PRICE'] > 12000000 ])/len(df)"
   ]
  },
  {
   "cell_type": "markdown",
   "id": "d1fa790f",
   "metadata": {},
   "source": [
    "##### Observation: \n",
    "\n",
    "It is observed that a lot of sales occur with an absurdly small number: \\\\$0  most commonly ( 40%  of the sale price =  \\\\$0 ). \n",
    "On the basis of the original data resource, it is noted that these sales are in effect transfers of deeds between parties. For instance, the transfer of ownership of the house from parents to the child after the parents move out for retirement. To handle this situation, a reasonable range for the sale price will be set up. The instances for which the sale price is greater than \\\\$12M and less than \\\\$50000 will be removed since it will help eliminate the special cases. Following which, log transformation can be performed. "
   ]
  },
  {
   "cell_type": "code",
   "execution_count": null,
   "id": "a0c2d960",
   "metadata": {},
   "outputs": [],
   "source": [
    "#Removing rows where year_built is equal to zero because these rows can be considered as outliers\n",
    "df = df[df['YEAR BUILT']!=0]"
   ]
  },
  {
   "cell_type": "code",
   "execution_count": null,
   "id": "b380a20e",
   "metadata": {
    "scrolled": true
   },
   "outputs": [],
   "source": [
    "df[df['YEAR BUILT']>1600]"
   ]
  },
  {
   "cell_type": "code",
   "execution_count": null,
   "id": "eab8a0d3",
   "metadata": {},
   "outputs": [],
   "source": [
    "# Create a chart showing how distributed is Year Built\n",
    "sns.distplot(df[df['YEAR BUILT']>1600]['YEAR BUILT'],bins=50,rug=True,kde=True)\n",
    "plt.show()"
   ]
  },
  {
   "cell_type": "code",
   "execution_count": null,
   "id": "adddfea2",
   "metadata": {},
   "outputs": [],
   "source": [
    "df = df[(df['SALE PRICE'] > 50000) & (df['SALE PRICE'] < 12000000)]\n",
    "sns.distplot(df['SALE PRICE'])"
   ]
  },
  {
   "cell_type": "code",
   "execution_count": null,
   "id": "30a678a5",
   "metadata": {
    "scrolled": true
   },
   "outputs": [],
   "source": [
    "# log(x) transform\n",
    "\n",
    "df[\"SALE PRICE\"]=np.log(df[\"SALE PRICE\"])\n",
    "\n",
    "plt.subplots(figsize=(15,6))\n",
    "plt.subplot(1,2,1)\n",
    "sns.distplot(df[\"SALE PRICE\"], fit = stats.norm)\n",
    "plt.ylabel('Frequency')\n",
    "(mu, sigma) = stats.norm.fit(df[\"SALE PRICE\"])\n",
    "plt.legend(['Normal dist. ($\\mu=$ {:.2f} and $\\sigma=$ {:.2f} )'.format(mu, sigma)], loc='best')\n",
    "\n",
    "plt.subplot(1,2,2)\n",
    "plt.boxplot(df['SALE PRICE'])\n",
    "plt.title('Sale Price - Box Plot')"
   ]
  },
  {
   "cell_type": "markdown",
   "id": "d1fe910d",
   "metadata": {},
   "source": [
    "#### Feature Analysis and Selection "
   ]
  },
  {
   "cell_type": "code",
   "execution_count": null,
   "id": "52e440c3",
   "metadata": {},
   "outputs": [],
   "source": [
    "df = df.drop(['salePrice_zscore', 'landSquare_zscore', 'grossSquare_zscore'],axis =1)\n",
    "df.columns"
   ]
  },
  {
   "cell_type": "markdown",
   "id": "8a3e7ede",
   "metadata": {},
   "source": [
    "#### (i) Correlation "
   ]
  },
  {
   "cell_type": "code",
   "execution_count": null,
   "id": "1a865d8a",
   "metadata": {},
   "outputs": [],
   "source": [
    "#Colinearity heatmap\n",
    "corr = df.corr()\n",
    "plt.figure(figsize=(12,6))\n",
    "sns.heatmap(corr, annot=True)"
   ]
  },
  {
   "cell_type": "markdown",
   "id": "2fce7f15",
   "metadata": {},
   "source": [
    "#### (ii) Feature Analysis and Selection\n",
    "\n",
    "a. BOROUGH\n",
    "\n",
    "Explanation: The name of the borough in which the property is located.\n",
    "\n",
    "1 = Bronx\\\n",
    "2 = Brooklyn\\\n",
    "3 = Manhattan\\\n",
    "4 = Queens\\\n",
    "5 = Staten Island"
   ]
  },
  {
   "cell_type": "code",
   "execution_count": null,
   "id": "36274523",
   "metadata": {
    "scrolled": true
   },
   "outputs": [],
   "source": [
    "plt.figure(figsize=(15,6))\n",
    "plt.subplot(1,2,1)\n",
    "plt.title(\"Number of Observations in each BOROUGH\")\n",
    "df['BOROUGH'].value_counts().plot(kind='bar')\n",
    "\n",
    "# Average price by borough\n",
    "plt.subplot(1,2,2)\n",
    "plt.title(\"Mean Sale Price in each BOROUGH\")\n",
    "df.groupby('BOROUGH').mean()['SALE PRICE'].plot(kind = 'bar')"
   ]
  },
  {
   "cell_type": "code",
   "execution_count": null,
   "id": "3a80595e",
   "metadata": {
    "scrolled": false
   },
   "outputs": [],
   "source": [
    "plt.figure(figsize=(15,6))\n",
    "sns.boxplot(x=df['BOROUGH'].astype('category'), y = df['SALE PRICE'], data=pd.melt(df))\n",
    "plt.show()"
   ]
  },
  {
   "cell_type": "code",
   "execution_count": null,
   "id": "8a0ac482",
   "metadata": {
    "scrolled": true
   },
   "outputs": [],
   "source": [
    "df['ZIP CODE'].nunique()"
   ]
  },
  {
   "cell_type": "markdown",
   "id": "988d0353",
   "metadata": {},
   "source": [
    "##### Finding top 10 zipcodes with highest sales"
   ]
  },
  {
   "cell_type": "markdown",
   "id": "279779db",
   "metadata": {},
   "source": [
    "#### b. NEIGHBORHOOD\n",
    "\n",
    "Explanation: While evaluating properties, the name of hte neighborhood is determined by the Department of Finance assessors. Although, the common name of the neighborhood is the same as designated by the Finance department, slight differences may occur when it comes to neighborhood boundary lines. It is also noted that a few sub-neighborhoods might not be included. "
   ]
  },
  {
   "cell_type": "code",
   "execution_count": null,
   "id": "7b1b9811",
   "metadata": {},
   "outputs": [],
   "source": [
    "# Best 50 neighborhoods having largest average building sale price\n",
    "plt.figure(figsize=(30,10))\n",
    "df.groupby('NEIGHBORHOOD').mean()['SALE PRICE'].sort_values(ascending = False).head(50).plot(kind = 'bar')\n",
    "plt.title(\"Best 50 neighborhoods with largest average building sale price\")\n",
    "plt.ylabel('Average sale price')"
   ]
  },
  {
   "cell_type": "markdown",
   "id": "b6f5d746",
   "metadata": {},
   "source": [
    "#### Building Class category\n",
    "\n",
    "Explanation: To help the users of the Rolling Sales Files to identify similar properties by broad usage such as One Family Homes without having to look up Individual Buildign Classes, this filed is included. The files are sorted by Borough, Neighborhood, Block, Building Class Category and Lot.  "
   ]
  },
  {
   "cell_type": "code",
   "execution_count": null,
   "id": "aa20550b",
   "metadata": {},
   "outputs": [],
   "source": [
    "df['BUILDING CLASS CATEGORY'].unique()"
   ]
  },
  {
   "cell_type": "code",
   "execution_count": null,
   "id": "5f377bfc",
   "metadata": {},
   "outputs": [],
   "source": [
    "# number of buildings by building class category\n",
    "plt.figure(figsize=(15,10))\n",
    "df.groupby('BUILDING CLASS CATEGORY').size().plot(kind = 'bar')\n",
    "plt.title('Number of buildings in each building class categories')\n",
    "plt.ylabel('Number of buildings')\n",
    "\n",
    "plt.tight_layout()\n",
    "plt.show()"
   ]
  },
  {
   "cell_type": "code",
   "execution_count": null,
   "id": "58672fb0",
   "metadata": {
    "scrolled": false
   },
   "outputs": [],
   "source": [
    "plt.figure(figsize=(20,6))\n",
    "order = sorted(df['BUILDING CLASS CATEGORY'].unique())\n",
    "sns.boxplot(x=df['BUILDING CLASS CATEGORY'], y = df['SALE PRICE'], data=df, order=order)\n",
    "plt.xticks(rotation = 90)\n",
    "plt.show()"
   ]
  },
  {
   "cell_type": "code",
   "execution_count": null,
   "id": "84ae1423",
   "metadata": {
    "scrolled": true
   },
   "outputs": [],
   "source": [
    "df['TAX CLASS AT TIME OF SALE'].value_counts()"
   ]
  },
  {
   "cell_type": "code",
   "execution_count": null,
   "id": "e90385f8",
   "metadata": {
    "scrolled": false
   },
   "outputs": [],
   "source": [
    "plt.figure(figsize=(10,5))\n",
    "sns.boxplot(x=df['TAX CLASS AT TIME OF SALE'], y = df['SALE PRICE'], data=pd.melt(df))\n",
    "plt.show()"
   ]
  },
  {
   "cell_type": "code",
   "execution_count": null,
   "id": "55005b6d",
   "metadata": {},
   "outputs": [],
   "source": [
    "## Block and Lot"
   ]
  },
  {
   "cell_type": "code",
   "execution_count": null,
   "id": "06adb8fa",
   "metadata": {
    "scrolled": true
   },
   "outputs": [],
   "source": [
    "plt.figure(figsize=(30,10))\n",
    "order = df['BUILDING CLASSAT TIME OF SALE'].unique()\n",
    "sns.boxplot(x='BUILDING CLASSAT TIME OF SALE', y='SALE PRICE', data=df, order = order)\n",
    "plt.xticks(rotation=90)\n",
    "plt.show()"
   ]
  },
  {
   "cell_type": "code",
   "execution_count": null,
   "id": "76a2c215",
   "metadata": {
    "scrolled": true
   },
   "outputs": [],
   "source": [
    "plt.hist(df['YEAR BUILT'])\n",
    "plt.title('Number of buildings built in different year in df')\n",
    "plt.ylabel('Count')\n",
    "plt.xlabel(\"Year Built\")"
   ]
  },
  {
   "cell_type": "code",
   "execution_count": null,
   "id": "404f61f2",
   "metadata": {
    "scrolled": true
   },
   "outputs": [],
   "source": [
    "plt.figure(figsize=(10,5))\n",
    "plt.plot(df.groupby('YEAR BUILT').mean()['SALE PRICE'])\n",
    "plt.plot(df.groupby('YEAR BUILT').median()['SALE PRICE'],color='r')\n",
    "plt.title('Average and Median Sale price of buildings built in different year in df')\n",
    "plt.ylabel('Average or Median sale price')\n",
    "plt.legend(['Average','Median'])"
   ]
  },
  {
   "cell_type": "code",
   "execution_count": null,
   "id": "0aea8b3b",
   "metadata": {
    "scrolled": false
   },
   "outputs": [],
   "source": [
    "# Year Built\n",
    "plt.figure(figsize=(15,6))\n",
    "plt.subplot(1,2,1)\n",
    "\n",
    "sns.regplot(x='YEAR BUILT', y='SALE PRICE',data=df)\n",
    "plt.title('Year Built vs. sale price ')\n",
    "plt.subplot(1,2,2)\n",
    "sns.boxplot(x= 'YEAR BUILT', data=df)\n",
    "plt.title('Year Built boxplt')\n",
    "plt.show()"
   ]
  },
  {
   "cell_type": "code",
   "execution_count": null,
   "id": "218771f5",
   "metadata": {
    "scrolled": true
   },
   "outputs": [],
   "source": [
    "#density plot\n",
    "sns.distplot(df['RESIDENTIALUNITS'],fit = stats.norm)\n",
    "plt.ylabel('Frequency')\n",
    "plt.xlim([0,250])"
   ]
  },
  {
   "cell_type": "code",
   "execution_count": null,
   "id": "7e1a5cec",
   "metadata": {
    "scrolled": false
   },
   "outputs": [],
   "source": [
    "df['LAND SQUARE FEET']=np.log(df['LAND SQUARE FEET'])\n",
    "df['GROSS SQUARE FEET']=np.log(df['GROSS SQUARE FEET'])\n",
    "plt.figure(figsize=(15,6));\n",
    "a=sns.jointplot(x=\"LAND SQUARE FEET\", y=\"SALE PRICE\", data=df,\n",
    "                  kind=\"reg\", truncate=False,\n",
    "                  color=\"m\", height=7);\n",
    "b=sns.jointplot(x=\"GROSS SQUARE FEET\", y=\"SALE PRICE\", data=df,\n",
    "                  kind=\"reg\", truncate=False,\n",
    "                  color=\"m\", height=7);"
   ]
  },
  {
   "cell_type": "markdown",
   "id": "1099a1c7",
   "metadata": {},
   "source": [
    "### 3.3 Summary\n",
    "\n",
    "Based on previous data visulization and analysis, we will drop these features: \n",
    "\n",
    "NEIGHBORHOOD, ADDRESS, APARTMENT NUMBER, BLOCK, LOT, ZIP CODE, BLOCK, TAX CLASS AS OF FINAL ROLL 18/19, \n",
    "BUILDING AS OF FINAL ROLL 18/19 "
   ]
  },
  {
   "cell_type": "code",
   "execution_count": null,
   "id": "25dd558f",
   "metadata": {},
   "outputs": [],
   "source": [
    "df = df.drop(columns=[\"ADDRESS\", \"APARTMENT NUMBER\", \"LOT\", \"ZIP CODE\", \"BLOCK\", \n",
    "                        \"NEIGHBORHOOD\", \"TAX CLASS AT TIME OF SALE\",\n",
    "                        \"BUILDING CLASSAT TIME OF SALE\"])"
   ]
  },
  {
   "cell_type": "code",
   "execution_count": null,
   "id": "d38e623d",
   "metadata": {},
   "outputs": [],
   "source": [
    "df.info()"
   ]
  },
  {
   "cell_type": "code",
   "execution_count": null,
   "id": "f0d2aa3d",
   "metadata": {},
   "outputs": [],
   "source": [
    "categoricals= ['BOROUGH', 'BUILDING CLASS AT PRESENT','TAX CLASS AT PRESENT',\n",
    "               'BUILDING CLASS CATEGORY']\n",
    "one_hot_encoded = pd.get_dummies(df[categoricals])\n",
    "df_new = df.drop(categoricals,axis = 1)\n",
    "df_new = df_new.join(one_hot_encoded).reset_index()\n",
    "df.info()"
   ]
  },
  {
   "cell_type": "code",
   "execution_count": null,
   "id": "41775ee9",
   "metadata": {},
   "outputs": [],
   "source": [
    "df_new"
   ]
  },
  {
   "cell_type": "code",
   "execution_count": null,
   "id": "b2ed6286",
   "metadata": {},
   "outputs": [],
   "source": [
    "#density plot\n",
    "sns.distplot(df_new['LAND SQUARE FEET'],fit = stats.norm)\n",
    "plt.ylabel('Frequency')\n",
    "plt.title(\"log(LAND SQUARE FEET) density plot\")"
   ]
  },
  {
   "cell_type": "code",
   "execution_count": null,
   "id": "01779984",
   "metadata": {},
   "outputs": [],
   "source": [
    "#density plot\n",
    "sns.distplot(df_new['GROSS SQUARE FEET'],fit = stats.norm)\n",
    "plt.ylabel('Frequency')\n",
    "plt.title(\"log(GROSS SQUARE FEET) density plot\")"
   ]
  },
  {
   "cell_type": "code",
   "execution_count": null,
   "id": "f652f1d5",
   "metadata": {
    "scrolled": true
   },
   "outputs": [],
   "source": [
    "df.columns"
   ]
  },
  {
   "cell_type": "code",
   "execution_count": null,
   "id": "965f4c4e",
   "metadata": {},
   "outputs": [],
   "source": [
    "df_new.columns"
   ]
  },
  {
   "cell_type": "code",
   "execution_count": null,
   "id": "d8038933",
   "metadata": {},
   "outputs": [],
   "source": [
    "df_new.drop('AGE_CATEGORY',axis='columns',inplace=True)"
   ]
  },
  {
   "cell_type": "code",
   "execution_count": null,
   "id": "370c572d",
   "metadata": {},
   "outputs": [],
   "source": [
    "from sklearn.model_selection import train_test_split\n",
    "\n",
    "X = df_new.drop(['SALE PRICE'], axis = 1)\n",
    "y = df_new['SALE PRICE']\n",
    "X_train, X_test, y_train, y_test = train_test_split(X, y, test_size=0.3, random_state = 42)"
   ]
  },
  {
   "cell_type": "markdown",
   "id": "79caa8d3",
   "metadata": {},
   "source": [
    "## Linear Regression"
   ]
  },
  {
   "cell_type": "code",
   "execution_count": null,
   "id": "4709867f",
   "metadata": {},
   "outputs": [],
   "source": [
    "from sklearn.linear_model import LinearRegression\n",
    "from sklearn import metrics\n",
    "from sklearn.metrics import r2_score\n",
    "lr_model = LinearRegression()\n",
    "lr_model.fit(X_train, y_train)\n",
    "y_pred = lr_model.predict(X_test)\n",
    "print(\"The R2 score of linear regression model is \", r2_score(y_test,y_pred))\n",
    "print('MSE:', metrics.mean_squared_error(y_test, y_pred))\n",
    "print('RMSE:', np.sqrt(metrics.mean_squared_error(y_test, y_pred)))"
   ]
  },
  {
   "cell_type": "markdown",
   "id": "7cd99b2a",
   "metadata": {},
   "source": [
    "# RANSAC Regression"
   ]
  },
  {
   "cell_type": "code",
   "execution_count": null,
   "id": "f2fd639e",
   "metadata": {},
   "outputs": [],
   "source": [
    "from sklearn.linear_model import RANSACRegressor\n",
    "import matplotlib.pyplot as plt\n",
    "\n",
    "model = RANSACRegressor(max_trials=1000)\n",
    "model.fit(X_train, y_train)\n",
    "\n",
    "test_pred = model.predict(X_test)\n",
    "train_pred = model.predict(X_train)\n",
    "\n",
    "print(\"The R2 score of RANSAC Regression model is \", r2_score(y_test, test_pred))\n",
    "print('MSE:', metrics.mean_squared_error(y_test, test_pred))\n",
    "print('RMSE:', np.sqrt(metrics.mean_squared_error(y_test, test_pred)))\n",
    "      \n",
    "plt.scatter(y_test, test_pred)\n",
    "\n",
    "plt.title('Residual plot of RANSAC Regression')"
   ]
  },
  {
   "cell_type": "markdown",
   "id": "947e6b91",
   "metadata": {},
   "source": [
    "# Lasso Regression"
   ]
  },
  {
   "cell_type": "code",
   "execution_count": null,
   "id": "2d7f736e",
   "metadata": {},
   "outputs": [],
   "source": [
    "from sklearn.linear_model import Lasso\n",
    "\n",
    "lasso_reg = Lasso(alpha = 0.1)\n",
    "lasso_reg.fit(X_train, y_train)\n",
    "lasso_reg_predict = lasso_reg.predict(X_test)\n",
    "\n",
    "print(\"The R2 score of Lasso Regression model is \", r2_score(y_test, lasso_reg_predict))\n",
    "print('MSE:', metrics.mean_squared_error(y_test, lasso_reg_predict))\n",
    "print('RMSE:', np.sqrt(metrics.mean_squared_error(y_test, lasso_reg_predict)))\n",
    "\n",
    "plt.title('Residual plot of Lasso Regression')\n",
    "\n",
    "plt.scatter(y_test, lasso_reg_predict)"
   ]
  },
  {
   "cell_type": "markdown",
   "id": "5aa306b2",
   "metadata": {},
   "source": [
    "# Ridge Regression"
   ]
  },
  {
   "cell_type": "code",
   "execution_count": null,
   "id": "bbbf9eda",
   "metadata": {},
   "outputs": [],
   "source": [
    "from sklearn.linear_model import Ridge\n",
    "\n",
    "ridge_reg = Ridge(alpha = 0.1)\n",
    "ridge_reg.fit(X_train, y_train)\n",
    "ridge_reg_predict = ridge_reg.predict(X_test)\n",
    "\n",
    "print(\"The R2 score of Ridge Regression model is \", r2_score(y_test, ridge_reg_predict))\n",
    "print('MSE:', metrics.mean_squared_error(y_test, ridge_reg_predict))\n",
    "print('RMSE:', np.sqrt(metrics.mean_squared_error(y_test, ridge_reg_predict)))\n",
    "\n",
    "plt.scatter(y_test, ridge_reg_predict)\n",
    "plt.title('Residual plot of Ridge Regression')"
   ]
  },
  {
   "cell_type": "markdown",
   "id": "15934a84",
   "metadata": {},
   "source": [
    "# ElasticNet Model"
   ]
  },
  {
   "cell_type": "code",
   "execution_count": null,
   "id": "ae647ee9",
   "metadata": {},
   "outputs": [],
   "source": [
    "from sklearn.linear_model import ElasticNet\n",
    "\n",
    "model = ElasticNet(alpha=0.1, l1_ratio=0.9, selection='random', random_state=42)\n",
    "model.fit(X_train, y_train)\n",
    "elastic_predict = model.predict(X_test)\n",
    "\n",
    "print(\"The R2 score of ElasticNet model is \", r2_score(y_test, elastic_predict))\n",
    "print('MSE:', metrics.mean_squared_error(y_test, elastic_predict))\n",
    "print('RMSE:', np.sqrt(metrics.mean_squared_error(y_test, elastic_predict)))\n",
    "\n",
    "plt.scatter(y_test, elastic_predict)\n",
    "plt.title('Residual plot of Elastic Net')"
   ]
  },
  {
   "cell_type": "markdown",
   "id": "9435f2ee",
   "metadata": {},
   "source": [
    "# XGBoost Regression"
   ]
  },
  {
   "cell_type": "code",
   "execution_count": null,
   "id": "e62538a6",
   "metadata": {},
   "outputs": [],
   "source": []
  },
  {
   "cell_type": "markdown",
   "id": "a95aa4e2",
   "metadata": {},
   "source": [
    "# Light GBM Regression - Gradient Boosting Machine"
   ]
  },
  {
   "cell_type": "code",
   "execution_count": null,
   "id": "df7728d9",
   "metadata": {},
   "outputs": [],
   "source": [
    "import lightgbm\n",
    "import time\n",
    "lgbm = lightgbm.LGBMRegressor(random_state = 42)\n",
    "start = time.process_time()\n",
    "model = lgbm.fit(X_train,y_train)\n",
    "lgbm_predict =  model.predict(X_test)\n",
    "\n",
    "print(\"The R2 score of Light GBM Regression model is \", r2_score(y_test, lgbm_predict))\n",
    "print('MSE:', metrics.mean_squared_error(y_test, lgbm_predict))\n",
    "print('RMSE:', np.sqrt(metrics.mean_squared_error(y_test, lgbm_predict)))\n",
    "\n",
    "plt.scatter(y_test, lgbm_predict)\n",
    "plt.title('Residual plot of LGBM')"
   ]
  },
  {
   "cell_type": "markdown",
   "id": "53068938",
   "metadata": {},
   "source": [
    "# Feature Importance of the Ridge Model"
   ]
  },
  {
   "cell_type": "code",
   "execution_count": null,
   "id": "94178c0d",
   "metadata": {},
   "outputs": [],
   "source": [
    "ridge_result = pd.DataFrame({'feature': X_train.columns, 'importance': abs(ridge_reg.coef_)})\n",
    "ridge_result_sorted = ridge_result.sort_values(by = 'importance', ascending = True)\n",
    "\n",
    "fig, ax1 = plt.subplots(figsize = (13,16))\n",
    "ax1.barh(ridge_result_sorted['feature'], ridge_result_sorted['importance'])\n",
    "ax1.set_ylabel('feature importance')\n",
    "ax1.set_title('Feature importance of Ridge')\n",
    "plt.show()"
   ]
  },
  {
   "cell_type": "markdown",
   "id": "1d4ce38c",
   "metadata": {},
   "source": [
    "# Deep Neural Multilayer Perceptron - MLP Regression"
   ]
  },
  {
   "cell_type": "code",
   "execution_count": null,
   "id": "63d9c2ae",
   "metadata": {},
   "outputs": [],
   "source": [
    "mlp = MLPRegressor(random_state = 42)\n",
    "start = time.process_time()\n",
    "model = mlp.fit(X_train,y_train)\n",
    "mlp_predict =  model.predict(X_test)\n",
    "\n",
    "print(\"The R2 score of MLP model is \", r2_score(y_test, mlp_predict))\n",
    "print('MSE:', metrics.mean_squared_error(y_test, mlp_predict))\n",
    "print('RMSE:', np.sqrt(metrics.mean_squared_error(y_test, mlp_predict)))\n",
    "\n",
    "plt.scatter(y_test, mlp_predict)\n",
    "plt.title('Residual plot of MLP')"
   ]
  },
  {
   "cell_type": "markdown",
   "id": "c3b4bae0",
   "metadata": {},
   "source": [
    "# K Neighbors Regression"
   ]
  },
  {
   "cell_type": "code",
   "execution_count": null,
   "id": "560a4ba4",
   "metadata": {},
   "outputs": [],
   "source": [
    "knn = KNeighborsRegressor()\n",
    "start = time.process_time()\n",
    "model = knn.fit(X_train,y_train)\n",
    "knn_predict =  model.predict(X_test)\n",
    "\n",
    "print(\"The R2 score of KNN model is \", r2_score(y_test, knn_predict))\n",
    "print('MSE:', metrics.mean_squared_error(y_test, knn_predict))\n",
    "print('RMSE:', np.sqrt(metrics.mean_squared_error(y_test, knn_predict)))\n",
    "\n",
    "plt.scatter(y_test, knn_predict)\n",
    "plt.title('Residual plot of KNN')\n"
   ]
  },
  {
   "cell_type": "markdown",
   "id": "8a04bc7d",
   "metadata": {},
   "source": [
    "# Decision Tree Regression"
   ]
  },
  {
   "cell_type": "code",
   "execution_count": null,
   "id": "30708db8",
   "metadata": {},
   "outputs": [],
   "source": [
    "dtree = DecisionTreeRegressor(random_state = 42)\n",
    "start = time.process_time()\n",
    "model = dtree.fit(X_train,y_train)\n",
    "dtree_predict =  model.predict(X_test)\n",
    "\n",
    "print(\"The R2 score of Decision Tree Regression model is \", r2_score(y_test, dtree_predict))\n",
    "print('MSE:', metrics.mean_squared_error(y_test, dtree_predict))\n",
    "print('RMSE:', np.sqrt(metrics.mean_squared_error(y_test, dtree_predict)))\n",
    "\n",
    "plt.scatter(y_test, dtree_predict)\n",
    "plt.title('Residual plot of Decision Tree')"
   ]
  },
  {
   "cell_type": "markdown",
   "id": "6cb3eb36",
   "metadata": {},
   "source": [
    "# Variable Importances"
   ]
  },
  {
   "cell_type": "code",
   "execution_count": null,
   "id": "fbec5c53",
   "metadata": {},
   "outputs": [],
   "source": [
    "rankings = model.feature_importances_.tolist()\n",
    "importance = pd.DataFrame(sorted(zip(X_train.columns,rankings),reverse=True),columns=[\"variable\",\"importance\"]).sort_values(\"importance\",ascending = False)\n",
    "plt.figure(figsize=(15,10))\n",
    "sns.barplot(x=\"importance\",\n",
    "            y=\"variable\",\n",
    "            data=importance)\n",
    "plt.title('Variable Importances')\n",
    "plt.tight_layout()\n"
   ]
  },
  {
   "cell_type": "markdown",
   "id": "4427967f",
   "metadata": {},
   "source": [
    "# Random Forest Regression"
   ]
  },
  {
   "cell_type": "code",
   "execution_count": null,
   "id": "4aea0c53",
   "metadata": {},
   "outputs": [],
   "source": [
    "model = RandomForestRegressor(n_estimators=10)\n",
    "model.fit(X_train.astype('int'),y_train.astype('int'))\n",
    "rand_forest_predict = model.predict(X_test)\n",
    "\n",
    "print(\"The R2 score of Random Forest Regression model is \", r2_score(y_test, rand_forest_predict))\n",
    "print('MSE:', metrics.mean_squared_error(y_test, rand_forest_predict))\n",
    "print('RMSE:', np.sqrt(metrics.mean_squared_error(y_test, rand_forest_predict)))\n",
    "\n",
    "plt.scatter(y_test, rand_forest_predict)\n",
    "plt.title('Residual plot of Random Forest')\n"
   ]
  },
  {
   "cell_type": "markdown",
   "id": "4889d8f0",
   "metadata": {},
   "source": [
    "# Cat boost"
   ]
  },
  {
   "cell_type": "code",
   "execution_count": null,
   "id": "326d65a5",
   "metadata": {},
   "outputs": [],
   "source": [
    "modelcat = cb.CatBoostRegressor(loss_function='RMSE')\n",
    "modelcat.fit(X_train,y_train)\n",
    "cat_predict = modelcat.predict(X_test)\n",
    "\n",
    "print(\"The R2 score of Cat Boost model is \", r2_score(y_test, cat_predict))\n",
    "print('MSE:', metrics.mean_squared_error(y_test, cat_predict))\n",
    "print('RMSE:', np.sqrt(metrics.mean_squared_error(y_test, cat_predict)))\n",
    "\n",
    "plt.scatter(y_test, cat_predict)\n",
    "plt.title('Residual plot of Cat Boost')"
   ]
  },
  {
   "cell_type": "code",
   "execution_count": null,
   "id": "2198dff6",
   "metadata": {},
   "outputs": [],
   "source": [
    "mtr = df_new.corr()\n",
    "# Generating a mask for the upper triangle\n",
    "mask = np.zeros_like(mtr)\n",
    "mask[np.triu_indices_from(mask)] = True\n",
    "# Setting up the matplotlib figure\n",
    "fig, ax = plt.subplots(figsize=(16,12))\n",
    "plt.suptitle(\"Correlation Matrix of Columns in Heatmap\", size=24)\n",
    "# Draw the heatmap with the mask and annotations\n",
    "sns.heatmap(mtr, mask= mask, annot=True, annot_kws={\"size\": 10});"
   ]
  },
  {
   "cell_type": "markdown",
   "id": "b7215e98",
   "metadata": {},
   "source": [
    "# Feature Importance of the Best Model: Cat boost"
   ]
  },
  {
   "cell_type": "code",
   "execution_count": null,
   "id": "1fcd66e9",
   "metadata": {},
   "outputs": [],
   "source": [
    "import \n",
    "feature_importance = modelcat.feature_importances_\n",
    "sorted_idx = np.argsort(feature_importance)\n",
    "fig = plt.figure(figsize=(12, 15))\n",
    "plt.barh(range(len(sorted_idx)), feature_importance[sorted_idx], align='center')\n",
    "plt.yticks(range(len(sorted_idx)), np.array(X_test.columns)[sorted_idx])\n",
    "plt.title('Feature Importance')"
   ]
  },
  {
   "cell_type": "code",
   "execution_count": null,
   "id": "f6c747c3",
   "metadata": {},
   "outputs": [],
   "source": []
  }
 ],
 "metadata": {
  "kernelspec": {
   "display_name": "Python 3 (ipykernel)",
   "language": "python",
   "name": "python3"
  },
  "language_info": {
   "codemirror_mode": {
    "name": "ipython",
    "version": 3
   },
   "file_extension": ".py",
   "mimetype": "text/x-python",
   "name": "python",
   "nbconvert_exporter": "python",
   "pygments_lexer": "ipython3",
   "version": "3.9.7"
  }
 },
 "nbformat": 4,
 "nbformat_minor": 5
}
