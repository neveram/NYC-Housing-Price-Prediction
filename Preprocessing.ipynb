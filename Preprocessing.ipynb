{
 "cells": [
  {
   "cell_type": "code",
   "execution_count": 1,
   "id": "0117d5b6",
   "metadata": {},
   "outputs": [],
   "source": [
    "# Import packages\n",
    "import pandas as pd\n",
    "import numpy as np\n",
    "import matplotlib.pyplot as plt\n",
    "import seaborn as sns"
   ]
  },
  {
   "cell_type": "code",
   "execution_count": 7,
   "id": "4b01e212",
   "metadata": {},
   "outputs": [],
   "source": [
    "# Load data\n",
    "\n",
    "# bronx_data = pd.read_excel(r\"NYC_Housing_Dataset_2020/2020_bronx.xlsx\",skiprows=6)\n",
    "bronx2020 = pd.read_excel(r\"NYC_Housing_Dataset_2020/2020_bronx.xlsx\",skiprows=6,thousands=',')\n",
    "brooklyn2020 = pd.read_excel(r\"NYC_Housing_Dataset_2020/2020_brooklyn.xlsx\",skiprows=6,thousands=',')\n",
    "manhattan2020 = pd.read_excel(r\"NYC_Housing_Dataset_2020/2020_manhattan.xlsx\",skiprows=6,thousands=',')\n",
    "queens2020 = pd.read_excel(r\"NYC_Housing_Dataset_2020/2020_queens.xlsx\",skiprows=6,thousands=',')\n",
    "statenisland2020 = pd.read_excel(r\"NYC_Housing_Dataset_2020/2020_staten_island.xlsx\",skiprows=6,thousands=',')"
   ]
  },
  {
   "cell_type": "code",
   "execution_count": 8,
   "id": "344006be",
   "metadata": {},
   "outputs": [
    {
     "name": "stdout",
     "output_type": "stream",
     "text": [
      "      BOROUGH NEIGHBORHOOD         BUILDING CLASS CATEGORY  \\\n",
      "0         NaN          NaN                             NaN   \n",
      "1         2.0     BATHGATE         01 ONE FAMILY DWELLINGS   \n",
      "2         2.0     BATHGATE         01 ONE FAMILY DWELLINGS   \n",
      "3         2.0     BATHGATE         01 ONE FAMILY DWELLINGS   \n",
      "4         2.0     BATHGATE         01 ONE FAMILY DWELLINGS   \n",
      "...       ...          ...                             ...   \n",
      "6641      2.0     WOODLAWN  10 COOPS - ELEVATOR APARTMENTS   \n",
      "6642      2.0     WOODLAWN  10 COOPS - ELEVATOR APARTMENTS   \n",
      "6643      2.0     WOODLAWN  10 COOPS - ELEVATOR APARTMENTS   \n",
      "6644      2.0     WOODLAWN  10 COOPS - ELEVATOR APARTMENTS   \n",
      "6645      2.0     WOODLAWN  10 COOPS - ELEVATOR APARTMENTS   \n",
      "\n",
      "     TAX CLASS AT PRESENT   BLOCK   LOT  EASE-MENT BUILDING CLASS AT PRESENT  \\\n",
      "0                     NaN     NaN   NaN        NaN                       NaN   \n",
      "1                       1  3029.0  36.0        NaN                        A5   \n",
      "2                       1  3030.0  65.0        NaN                        A1   \n",
      "3                       1  3030.0  67.0        NaN                        A1   \n",
      "4                       1  3030.0  67.0        NaN                        A1   \n",
      "...                   ...     ...   ...        ...                       ...   \n",
      "6641                    2  3398.0  87.0        NaN                        D4   \n",
      "6642                    2  3398.0  97.0        NaN                        D4   \n",
      "6643                    2  3398.0  97.0        NaN                        D4   \n",
      "6644                    2  3398.0  97.0        NaN                        D4   \n",
      "6645                    2  3398.0  97.0        NaN                        D4   \n",
      "\n",
      "                      ADDRESS APARTMENT NUMBER  ...  RESIDENTIAL\\nUNITS  \\\n",
      "0                         NaN              NaN  ...                 NaN   \n",
      "1         418 EAST 180 STREET              NaN  ...                 1.0   \n",
      "2            4455 PARK AVENUE              NaN  ...                 1.0   \n",
      "3            4451 PARK AVENUE              NaN  ...                 1.0   \n",
      "4            4451 PARK AVENUE              NaN  ...                 1.0   \n",
      "...                       ...              ...  ...                 ...   \n",
      "6641  4315 WEBSTER AVENUE, 4L              NaN  ...                 NaN   \n",
      "6642  4295 WEBSTER AVENUE, 4F              NaN  ...                 NaN   \n",
      "6643  4295 WEBSTER AVENUE, 5H              NaN  ...                 NaN   \n",
      "6644  4295 WEBSTER AVENUE, 6L              NaN  ...                 NaN   \n",
      "6645  4295 WEBSTER AVENUE, L3              NaN  ...                 NaN   \n",
      "\n",
      "      COMMERCIAL\\nUNITS  TOTAL \\nUNITS  LAND \\nSQUARE FEET  \\\n",
      "0                   NaN            NaN                 NaN   \n",
      "1                   0.0            1.0              1568.0   \n",
      "2                   0.0            1.0              1622.0   \n",
      "3                   0.0            1.0              1646.0   \n",
      "4                   0.0            1.0              1646.0   \n",
      "...                 ...            ...                 ...   \n",
      "6641                NaN            NaN                 NaN   \n",
      "6642                NaN            NaN                 NaN   \n",
      "6643                NaN            NaN                 NaN   \n",
      "6644                NaN            NaN                 NaN   \n",
      "6645                NaN            NaN                 NaN   \n",
      "\n",
      "      GROSS \\nSQUARE FEET  YEAR BUILT  TAX CLASS AT TIME OF SALE  \\\n",
      "0                     NaN         NaN                        NaN   \n",
      "1                  1526.0      1899.0                        1.0   \n",
      "2                  1587.0      1899.0                        1.0   \n",
      "3                  1495.0      1899.0                        1.0   \n",
      "4                  1495.0      1899.0                        1.0   \n",
      "...                   ...         ...                        ...   \n",
      "6641                  NaN      1958.0                        2.0   \n",
      "6642                  NaN      1957.0                        2.0   \n",
      "6643                  NaN      1957.0                        2.0   \n",
      "6644                  NaN      1957.0                        2.0   \n",
      "6645                  NaN      1957.0                        2.0   \n",
      "\n",
      "      BUILDING CLASS\\nAT TIME OF SALE SALE PRICE  SALE DATE  \n",
      "0                                 NaN        NaN        NaT  \n",
      "1                                  A5        0.0 2020-07-09  \n",
      "2                                  A1   458000.0 2020-01-31  \n",
      "3                                  A1   275000.0 2020-03-16  \n",
      "4                                  A1   475000.0 2020-07-23  \n",
      "...                               ...        ...        ...  \n",
      "6641                               D4   181750.0 2020-03-05  \n",
      "6642                               D4   230000.0 2020-02-24  \n",
      "6643                               D4   305803.0 2020-12-18  \n",
      "6644                               D4   178000.0 2020-11-05  \n",
      "6645                               D4   129000.0 2020-08-31  \n",
      "\n",
      "[6646 rows x 21 columns]\n"
     ]
    }
   ],
   "source": [
    "print(bronx2020)"
   ]
  },
  {
   "cell_type": "code",
   "execution_count": null,
   "id": "169a74c6",
   "metadata": {},
   "outputs": [],
   "source": []
  }
 ],
 "metadata": {
  "kernelspec": {
   "display_name": "Python 3 (ipykernel)",
   "language": "python",
   "name": "python3"
  },
  "language_info": {
   "codemirror_mode": {
    "name": "ipython",
    "version": 3
   },
   "file_extension": ".py",
   "mimetype": "text/x-python",
   "name": "python",
   "nbconvert_exporter": "python",
   "pygments_lexer": "ipython3",
   "version": "3.9.7"
  }
 },
 "nbformat": 4,
 "nbformat_minor": 5
}
